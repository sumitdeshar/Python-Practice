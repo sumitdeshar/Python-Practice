{
 "cells": [
  {
   "cell_type": "markdown",
   "metadata": {},
   "source": [
    "\"\"\"\n",
    "Wind Statistics\n",
    "\n",
    "---\n",
    "\n",
    "Topics: Using array methods over different axes, fancy indexing.\n",
    "\n",
    "1.  The data in 'wind.data' has the following format::\n",
    "\n",
    "         61  1  1 15.04 14.96 13.17  9.29 13.96  9.87 13.67 10.25 10.83 12.58 18.50 15.04\n",
    "         61  1  2 14.71 16.88 10.83  6.50 12.62  7.67 11.50 10.04  9.79  9.67 17.54 13.83\n",
    "         61  1  3 18.50 16.88 12.33 10.13 11.17  6.17 11.25  8.04  8.50  7.67 12.75 12.71\n",
    "\n",
    "    The first three columns are year, month and day. The\n",
    "    remaining 12 columns are average windspeeds in knots at 12\n",
    "    locations in Ireland on that day.\n",
    "\n",
    "    Use the 'loadtxt' function from numpy to read the data into\n",
    "    an array.\n",
    "\n",
    "2.  Calculate the min, max and mean windspeeds and standard deviation of the\n",
    "    windspeeds over all the locations and all the times (a single set of numbers\n",
    "    for the entire dataset).\n",
    "\n",
    "3.  Calculate the min, max and mean windspeeds and standard deviations of the\n",
    "    windspeeds at each location over all the days (a different set of numbers\n",
    "    for each location)\n",
    "\n",
    "4.  Calculate the min, max and mean windspeed and standard deviations of the\n",
    "    windspeeds across all the locations at each day (a different set of numbers\n",
    "    for each day)\n",
    "\n",
    "5.  Find the location which has the greatest windspeed on each day (an integer\n",
    "    column number for each day).\n",
    "\n",
    "6.  Find the year, month and day on which the greatest windspeed was recorded.\n",
    "\n",
    "7.  Find the average windspeed in January for each location.\n",
    "\n",
    "You should be able to perform all of these operations without using a for\n",
    "loop or other looping construct.\n",
    "\n",
    "Bonus\n",
    "\n",
    "```\n",
    "\n",
    "1. Calculate the mean windspeed for each month in the dataset.  Treat\n",
    "   January 1961 and January 1962 as *different* months. (hint: first find a\n",
    "   way to create an identifier unique for each month. The second step might\n",
    "   require a for loop.)\n",
    "\n",
    "2. Calculate the min, max and mean windspeeds and standard deviations of the\n",
    "   windspeeds across all locations for each week (assume that the first week\n",
    "   starts on January 1 1961) for the first 52 weeks. This can be done without\n",
    "   any for loop.\n",
    "\n",
    "Bonus Bonus\n",
    "```\n",
    "\n",
    "Calculate the mean windspeed for each month without using a for loop.\n",
    "(Hint: look at `searchsorted` and `add.reduceat`.)\n",
    "\n",
    "Notes\n",
    "\n",
    "```\n",
    "\n",
    "These data were analyzed in detail in the following article:\n",
    "\n",
    "   Haslett, J. and Raftery, A. E. (1989). Space-time Modelling with\n",
    "   Long-memory Dependence: Assessing Ireland's Wind Power Resource\n",
    "   (with Discussion). Applied Statistics 38, 1-50.\n",
    "\n",
    "\n",
    "See :ref:`wind-statistics-solution`.\n",
    "\"\"\"\n",
    "\n",
    "from numpy import loadtxt\n",
    "```\n"
   ]
  },
  {
   "cell_type": "markdown",
   "metadata": {},
   "source": [
    "1.  The data in 'wind.data' has the following format::\n",
    "\n",
    "         61  1  1 15.04 14.96 13.17  9.29 13.96  9.87 13.67 10.25 10.83 12.58 18.50 15.04\n",
    "         61  1  2 14.71 16.88 10.83  6.50 12.62  7.67 11.50 10.04  9.79  9.67 17.54 13.83\n",
    "         61  1  3 18.50 16.88 12.33 10.13 11.17  6.17 11.25  8.04  8.50  7.67 12.75 12.71\n",
    "\n",
    "    The first three columns are year, month and day. The\n",
    "    remaining 12 columns are average windspeeds in knots at 12\n",
    "    locations in Ireland on that day.\n",
    "\n",
    "    Use the 'loadtxt' function from numpy to read the data into\n",
    "    an array.\n"
   ]
  },
  {
   "cell_type": "code",
   "execution_count": 12,
   "metadata": {},
   "outputs": [
    {
     "name": "stdout",
     "output_type": "stream",
     "text": [
      "shape= (6574, 15)\n",
      "date= [[61.  1.  1.]\n",
      " [61.  1.  2.]\n",
      " [61.  1.  3.]\n",
      " ...\n",
      " [78. 12. 29.]\n",
      " [78. 12. 30.]\n",
      " [78. 12. 31.]]\n"
     ]
    },
    {
     "data": {
      "text/plain": [
       "array([[15.04, 14.96, 13.17, ..., 12.58, 18.5 , 15.04],\n",
       "       [14.71, 16.88, 10.83, ...,  9.67, 17.54, 13.83],\n",
       "       [18.5 , 16.88, 12.33, ...,  7.67, 12.75, 12.71],\n",
       "       ...,\n",
       "       [14.  , 10.29, 14.42, ..., 16.42, 18.88, 29.58],\n",
       "       [18.5 , 14.04, 21.29, ..., 12.12, 14.67, 28.79],\n",
       "       [20.33, 17.41, 27.29, ..., 11.38, 12.08, 22.08]], shape=(6574, 12))"
      ]
     },
     "execution_count": 12,
     "metadata": {},
     "output_type": "execute_result"
    }
   ],
   "source": [
    "import numpy as np\n",
    "from numpy import loadtxt\n",
    "\n",
    "data = loadtxt('wind.data')\n",
    "print('shape=',data.shape)\n",
    "date = data[:,:3]\n",
    "print('date=', date)\n",
    "wind = data[:,3:]\n",
    "wind\n"
   ]
  },
  {
   "cell_type": "markdown",
   "metadata": {},
   "source": [
    "2.  Calculate the min, max and mean windspeeds and standard deviation of the\n",
    "    windspeeds over all the locations and all the times (a single set of numbers\n",
    "    for the entire dataset).\n"
   ]
  },
  {
   "cell_type": "code",
   "execution_count": null,
   "metadata": {},
   "outputs": [],
   "source": []
  },
  {
   "cell_type": "markdown",
   "metadata": {},
   "source": [
    "3.  Calculate the min, max and mean windspeeds and standard deviations of the\n",
    "    windspeeds at each location over all the days (a different set of numbers\n",
    "    for each location)\n"
   ]
  },
  {
   "cell_type": "code",
   "execution_count": null,
   "metadata": {},
   "outputs": [],
   "source": []
  },
  {
   "cell_type": "markdown",
   "metadata": {},
   "source": [
    "4.  Calculate the min, max and mean windspeed and standard deviations of the\n",
    "    windspeeds across all the locations at each day (a different set of numbers\n",
    "    for each day)\n"
   ]
  },
  {
   "cell_type": "code",
   "execution_count": null,
   "metadata": {},
   "outputs": [],
   "source": []
  },
  {
   "cell_type": "markdown",
   "metadata": {},
   "source": [
    "5.  Find the location which has the greatest windspeed on each day (an integer\n",
    "    column number for each day).\n"
   ]
  },
  {
   "cell_type": "code",
   "execution_count": null,
   "metadata": {},
   "outputs": [],
   "source": []
  },
  {
   "cell_type": "markdown",
   "metadata": {},
   "source": [
    "6.  Find the year, month and day on which the greatest windspeed was recorded.\n"
   ]
  },
  {
   "cell_type": "code",
   "execution_count": null,
   "metadata": {},
   "outputs": [],
   "source": []
  },
  {
   "cell_type": "markdown",
   "metadata": {},
   "source": [
    "7.  Find the average windspeed in January for each location.\n"
   ]
  },
  {
   "cell_type": "code",
   "execution_count": null,
   "metadata": {},
   "outputs": [],
   "source": []
  }
 ],
 "metadata": {
  "kernelspec": {
   "display_name": ".venv",
   "language": "python",
   "name": "python3"
  },
  "language_info": {
   "codemirror_mode": {
    "name": "ipython",
    "version": 3
   },
   "file_extension": ".py",
   "mimetype": "text/x-python",
   "name": "python",
   "nbconvert_exporter": "python",
   "pygments_lexer": "ipython3",
   "version": "3.11.5"
  }
 },
 "nbformat": 4,
 "nbformat_minor": 2
}
